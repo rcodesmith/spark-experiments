{
 "cells": [
  {
   "cell_type": "markdown",
   "metadata": {},
   "source": [
    "Establish Spark Context for remaining tests"
   ]
  },
  {
   "cell_type": "code",
   "execution_count": 2,
   "metadata": {
    "collapsed": true
   },
   "outputs": [],
   "source": [
    "import pyspark\n",
    "sc = pyspark.SparkContext('local[*]')"
   ]
  },
  {
   "cell_type": "code",
   "execution_count": 3,
   "metadata": {
    "collapsed": false
   },
   "outputs": [
    {
     "data": {
      "text/plain": [
       "[622, 973, 712, 58, 504]"
      ]
     },
     "execution_count": 3,
     "metadata": {},
     "output_type": "execute_result"
    }
   ],
   "source": [
    "rdd = sc.parallelize(range(1000))\n",
    "rdd.takeSample(False, 5)"
   ]
  },
  {
   "cell_type": "code",
   "execution_count": 4,
   "metadata": {
    "collapsed": true
   },
   "outputs": [],
   "source": [
    "# Test processing of text file, based on quick start\n",
    "textFile = sc.textFile(\"README.md\")"
   ]
  },
  {
   "cell_type": "markdown",
   "metadata": {},
   "source": [
    "Use a Spark action"
   ]
  },
  {
   "cell_type": "code",
   "execution_count": 6,
   "metadata": {
    "collapsed": false
   },
   "outputs": [
    {
     "data": {
      "text/plain": [
       "33"
      ]
     },
     "execution_count": 6,
     "metadata": {},
     "output_type": "execute_result"
    }
   ],
   "source": [
    "textFile.count()"
   ]
  },
  {
   "cell_type": "code",
   "execution_count": 11,
   "metadata": {
    "collapsed": false
   },
   "outputs": [
    {
     "name": "stdout",
     "output_type": "stream",
     "text": [
      "Lines with spark: 2\n"
     ]
    }
   ],
   "source": [
    "linesWithSpark = textFile.filter(lambda line: \"Spark\" in line)\n",
    "print(\"Lines with spark: %s\" % linesWithSpark.count())"
   ]
  },
  {
   "cell_type": "code",
   "execution_count": 13,
   "metadata": {
    "collapsed": false
   },
   "outputs": [
    {
     "data": {
      "text/plain": [
       "13"
      ]
     },
     "execution_count": 13,
     "metadata": {},
     "output_type": "execute_result"
    }
   ],
   "source": [
    "mostWordsInLine = textFile.map(lambda line: len(line.split())).reduce(lambda a, b: a if (a > b) else b)\n",
    "mostWordsInLine"
   ]
  },
  {
   "cell_type": "markdown",
   "metadata": {},
   "source": [
    "Get count of distinct words in the README.md"
   ]
  },
  {
   "cell_type": "code",
   "execution_count": 15,
   "metadata": {
    "collapsed": false
   },
   "outputs": [
    {
     "data": {
      "text/plain": [
       "[('implemented', 1),\n",
       " ('10092', 1),\n",
       " ('--name', 1),\n",
       " ('=', 1),\n",
       " ('learning', 1),\n",
       " ('#', 1),\n",
       " ('for', 1),\n",
       " ('Python', 3),\n",
       " ('not', 1),\n",
       " ('Spark.', 1),\n",
       " ('of', 1),\n",
       " ('pyenv', 1),\n",
       " ('-d', 1),\n",
       " ('16', 1),\n",
       " ('Prerequisite:', 1),\n",
       " ('textFile', 1),\n",
       " ('pyspark', 1),\n",
       " ('Spark', 1),\n",
       " ('Quick', 1),\n",
       " ('https://ipython.org/', 1),\n",
       " ('Some', 1),\n",
       " ('as', 1),\n",
       " ('working?', 1),\n",
       " ('textFile.count()', 1),\n",
       " ('history', 1),\n",
       " ('Start](http://spark.apache.org/docs/latest/quick-start.html)', 1),\n",
       " ('spark-experiments', 1),\n",
       " ('sc.textFile(\"README.md\")', 1),\n",
       " ('jupyter/pyspark-notebook', 1),\n",
       " ('action', 1),\n",
       " ('Apache', 1),\n",
       " ('10093', 1),\n",
       " ('I', 1),\n",
       " ('-v', 1),\n",
       " ('docker', 1),\n",
       " ('shell', 1),\n",
       " ('This', 1),\n",
       " ('8888:8888', 1),\n",
       " (\"I'm\", 1),\n",
       " ('SPARK_EXPERIMENTS=/Users/ron/Documents/workingArea/spark-experiments', 1),\n",
       " ('two.', 1),\n",
       " ('export', 1),\n",
       " ('>>>', 2),\n",
       " ('contains', 1),\n",
       " ('project', 1),\n",
       " ('$SPARK_EXPERIMENTS:/home/jovyan/work', 1),\n",
       " ('-p', 1),\n",
       " ('[Spark', 1),\n",
       " ('https://github.com/jupyter/docker-stacks/tree/master/pyspark-notebook', 1),\n",
       " ('```', 2),\n",
       " ('run', 1),\n",
       " ('experiments', 1),\n",
       " ('from', 1),\n",
       " ('Line', 1),\n",
       " ('An', 1),\n",
       " ('3.5', 1),\n",
       " ('using', 1),\n",
       " ('steps', 1),\n",
       " ('part', 1)]"
      ]
     },
     "execution_count": 15,
     "metadata": {},
     "output_type": "execute_result"
    }
   ],
   "source": [
    "wordCounts = textFile.flatMap(lambda line: line.split()).map(lambda word: (word, 1)).reduceByKey(lambda a, b: a+b)\n",
    "wordCounts.collect()"
   ]
  },
  {
   "cell_type": "code",
   "execution_count": null,
   "metadata": {
    "collapsed": true
   },
   "outputs": [],
   "source": []
  },
  {
   "cell_type": "code",
   "execution_count": null,
   "metadata": {
    "collapsed": true
   },
   "outputs": [],
   "source": []
  },
  {
   "cell_type": "code",
   "execution_count": null,
   "metadata": {
    "collapsed": true
   },
   "outputs": [],
   "source": []
  },
  {
   "cell_type": "code",
   "execution_count": null,
   "metadata": {
    "collapsed": true
   },
   "outputs": [],
   "source": []
  },
  {
   "cell_type": "code",
   "execution_count": null,
   "metadata": {
    "collapsed": true
   },
   "outputs": [],
   "source": []
  },
  {
   "cell_type": "code",
   "execution_count": null,
   "metadata": {
    "collapsed": true
   },
   "outputs": [],
   "source": []
  },
  {
   "cell_type": "code",
   "execution_count": null,
   "metadata": {
    "collapsed": true
   },
   "outputs": [],
   "source": []
  },
  {
   "cell_type": "code",
   "execution_count": null,
   "metadata": {
    "collapsed": true
   },
   "outputs": [],
   "source": []
  },
  {
   "cell_type": "code",
   "execution_count": null,
   "metadata": {
    "collapsed": true
   },
   "outputs": [],
   "source": []
  },
  {
   "cell_type": "code",
   "execution_count": null,
   "metadata": {
    "collapsed": true
   },
   "outputs": [],
   "source": []
  },
  {
   "cell_type": "code",
   "execution_count": null,
   "metadata": {
    "collapsed": true
   },
   "outputs": [],
   "source": []
  }
 ],
 "metadata": {
  "kernelspec": {
   "display_name": "Python 3",
   "language": "python",
   "name": "python3"
  },
  "language_info": {
   "codemirror_mode": {
    "name": "ipython",
    "version": 3
   },
   "file_extension": ".py",
   "mimetype": "text/x-python",
   "name": "python",
   "nbconvert_exporter": "python",
   "pygments_lexer": "ipython3",
   "version": "3.5.2"
  }
 },
 "nbformat": 4,
 "nbformat_minor": 1
}
